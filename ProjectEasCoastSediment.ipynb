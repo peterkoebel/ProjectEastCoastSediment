{
 "cells": [
  {
   "cell_type": "markdown",
   "metadata": {},
   "source": [
    "#Project East Cost Sediment\n",
    "\n",
    "##Data Science East Coast Sediment"
   ]
  },
  {
   "cell_type": "code",
   "execution_count": 1,
   "metadata": {
    "collapsed": true
   },
   "outputs": [],
   "source": [
    "import pandas as pd\n",
    "import numpy as np\n",
    "import matplotlib.pyplot as plt\n",
    "%matplotlib inline"
   ]
  },
  {
   "cell_type": "markdown",
   "metadata": {},
   "source": [
    "#Importing the data from https://catalog.data.gov/dataset/ecstdb2014-shp-u-s-geological-survey-east-coast-sediment-texture-database-2014"
   ]
  },
  {
   "cell_type": "code",
   "execution_count": 2,
   "metadata": {},
   "outputs": [
    {
     "name": "stderr",
     "output_type": "stream",
     "text": [
      "C:\\Program Files (x86)\\Microsoft Visual Studio\\Shared\\Anaconda3_64\\lib\\site-packages\\IPython\\core\\interactiveshell.py:2698: DtypeWarning: Columns (14) have mixed types. Specify dtype option on import or set low_memory=False.\n",
      "  interactivity=interactivity, compiler=compiler, result=result)\n"
     ]
    }
   ],
   "source": [
    "datafull = pd.read_csv('C:\\\\Users\\\\User\\\\Desktop\\\\Portfolio\\\\ProjectEastCoastSediment\\\\ecstdb2014.csv')"
   ]
  },
  {
   "cell_type": "markdown",
   "metadata": {},
   "source": [
    "#Column **14** has mixed types, which is preventing us from importing the data. To fix this we will assign the column the type '*str*'."
   ]
  },
  {
   "cell_type": "code",
   "execution_count": 3,
   "metadata": {
    "collapsed": true
   },
   "outputs": [],
   "source": [
    "datafull = pd.read_csv('C:\\\\Users\\\\User\\\\Desktop\\\\Portfolio\\\\ProjectEastCoastSediment\\\\ecstdb2014.csv', dtype={'DAY_COLL': np.str})"
   ]
  },
  {
   "cell_type": "markdown",
   "metadata": {},
   "source": [
    "#Let's take a look at a sample of the data."
   ]
  },
  {
   "cell_type": "code",
   "execution_count": 4,
   "metadata": {},
   "outputs": [
    {
     "data": {
      "text/html": [
       "<div>\n",
       "<style>\n",
       "    .dataframe thead tr:only-child th {\n",
       "        text-align: right;\n",
       "    }\n",
       "\n",
       "    .dataframe thead th {\n",
       "        text-align: left;\n",
       "    }\n",
       "\n",
       "    .dataframe tbody tr th {\n",
       "        vertical-align: top;\n",
       "    }\n",
       "</style>\n",
       "<table border=\"1\" class=\"dataframe\">\n",
       "  <thead>\n",
       "    <tr style=\"text-align: right;\">\n",
       "      <th></th>\n",
       "      <th>GROUP</th>\n",
       "      <th>DB_ID</th>\n",
       "      <th>FIELD_NO</th>\n",
       "      <th>PROJECT</th>\n",
       "      <th>CRUISE_ID</th>\n",
       "      <th>CONTACT</th>\n",
       "      <th>AREA</th>\n",
       "      <th>LATITUDE</th>\n",
       "      <th>LONGITUDE</th>\n",
       "      <th>DEPTH_M</th>\n",
       "      <th>...</th>\n",
       "      <th>PHI_6</th>\n",
       "      <th>PHI_7</th>\n",
       "      <th>PHI_8</th>\n",
       "      <th>PHI_9</th>\n",
       "      <th>PHI_10</th>\n",
       "      <th>PHI_11</th>\n",
       "      <th>ANALYST</th>\n",
       "      <th>ANAL_COMM</th>\n",
       "      <th>LITHOLOGY</th>\n",
       "      <th>COMMENTS</th>\n",
       "    </tr>\n",
       "  </thead>\n",
       "  <tbody>\n",
       "    <tr>\n",
       "      <th>0</th>\n",
       "      <td>1</td>\n",
       "      <td>A002</td>\n",
       "      <td>A002</td>\n",
       "      <td>USGS/WHOI</td>\n",
       "      <td>AB3  70</td>\n",
       "      <td>NaN</td>\n",
       "      <td>NANTUCKET SHOALS</td>\n",
       "      <td>41.10000</td>\n",
       "      <td>-69.28333</td>\n",
       "      <td>51.0</td>\n",
       "      <td>...</td>\n",
       "      <td>-9999.0</td>\n",
       "      <td>-9999.0</td>\n",
       "      <td>-9999.0</td>\n",
       "      <td>-9999.0</td>\n",
       "      <td>-9999.0</td>\n",
       "      <td>-9999.0</td>\n",
       "      <td>NaN</td>\n",
       "      <td>Verbal description made at a later date</td>\n",
       "      <td>GRANULE-BOULDER</td>\n",
       "      <td>BOTTOM TEMP 8.2</td>\n",
       "    </tr>\n",
       "    <tr>\n",
       "      <th>1</th>\n",
       "      <td>1</td>\n",
       "      <td>A003</td>\n",
       "      <td>A003</td>\n",
       "      <td>USGS/WHOI</td>\n",
       "      <td>AB3  70</td>\n",
       "      <td>NaN</td>\n",
       "      <td>SW CHANNEL</td>\n",
       "      <td>40.85000</td>\n",
       "      <td>-68.91667</td>\n",
       "      <td>66.0</td>\n",
       "      <td>...</td>\n",
       "      <td>-9999.0</td>\n",
       "      <td>-9999.0</td>\n",
       "      <td>-9999.0</td>\n",
       "      <td>-9999.0</td>\n",
       "      <td>-9999.0</td>\n",
       "      <td>-9999.0</td>\n",
       "      <td>NaN</td>\n",
       "      <td>Verbal description made at a later date</td>\n",
       "      <td>COARSE SAND</td>\n",
       "      <td>BOTTOM TEMP 8.4</td>\n",
       "    </tr>\n",
       "    <tr>\n",
       "      <th>2</th>\n",
       "      <td>1</td>\n",
       "      <td>A012</td>\n",
       "      <td>A012</td>\n",
       "      <td>USGS/WHOI</td>\n",
       "      <td>AB3  70</td>\n",
       "      <td>NaN</td>\n",
       "      <td>GEORGES BANK</td>\n",
       "      <td>41.38333</td>\n",
       "      <td>-66.98333</td>\n",
       "      <td>69.0</td>\n",
       "      <td>...</td>\n",
       "      <td>-9999.0</td>\n",
       "      <td>-9999.0</td>\n",
       "      <td>-9999.0</td>\n",
       "      <td>-9999.0</td>\n",
       "      <td>-9999.0</td>\n",
       "      <td>-9999.0</td>\n",
       "      <td>NaN</td>\n",
       "      <td>NaN</td>\n",
       "      <td>MEDIUM SAND</td>\n",
       "      <td>BOTTOM TEMP 8.4</td>\n",
       "    </tr>\n",
       "    <tr>\n",
       "      <th>3</th>\n",
       "      <td>1</td>\n",
       "      <td>A015</td>\n",
       "      <td>A015</td>\n",
       "      <td>USGS/WHOI</td>\n",
       "      <td>AB3  70</td>\n",
       "      <td>NaN</td>\n",
       "      <td>GEORGES BANK</td>\n",
       "      <td>41.63333</td>\n",
       "      <td>-67.95000</td>\n",
       "      <td>20.0</td>\n",
       "      <td>...</td>\n",
       "      <td>-9999.0</td>\n",
       "      <td>-9999.0</td>\n",
       "      <td>-9999.0</td>\n",
       "      <td>-9999.0</td>\n",
       "      <td>-9999.0</td>\n",
       "      <td>-9999.0</td>\n",
       "      <td>NaN</td>\n",
       "      <td>NaN</td>\n",
       "      <td>MEDIUM SAND</td>\n",
       "      <td>BOTTOM TEMP 8.2</td>\n",
       "    </tr>\n",
       "    <tr>\n",
       "      <th>4</th>\n",
       "      <td>1</td>\n",
       "      <td>A016</td>\n",
       "      <td>A016</td>\n",
       "      <td>USGS/WHOI</td>\n",
       "      <td>AB3  70</td>\n",
       "      <td>NaN</td>\n",
       "      <td>GEORGES BANK</td>\n",
       "      <td>41.35000</td>\n",
       "      <td>-67.98333</td>\n",
       "      <td>33.0</td>\n",
       "      <td>...</td>\n",
       "      <td>-9999.0</td>\n",
       "      <td>-9999.0</td>\n",
       "      <td>-9999.0</td>\n",
       "      <td>-9999.0</td>\n",
       "      <td>-9999.0</td>\n",
       "      <td>-9999.0</td>\n",
       "      <td>NaN</td>\n",
       "      <td>Verbal description made at a later date</td>\n",
       "      <td>MEDIUM SAND</td>\n",
       "      <td>BOTTOM TEMP 7.9</td>\n",
       "    </tr>\n",
       "  </tbody>\n",
       "</table>\n",
       "<p>5 rows × 58 columns</p>\n",
       "</div>"
      ],
      "text/plain": [
       "   GROUP DB_ID FIELD_NO    PROJECT CRUISE_ID CONTACT              AREA  \\\n",
       "0      1  A002     A002  USGS/WHOI   AB3  70     NaN  NANTUCKET SHOALS   \n",
       "1      1  A003     A003  USGS/WHOI   AB3  70     NaN        SW CHANNEL   \n",
       "2      1  A012     A012  USGS/WHOI   AB3  70     NaN      GEORGES BANK   \n",
       "3      1  A015     A015  USGS/WHOI   AB3  70     NaN      GEORGES BANK   \n",
       "4      1  A016     A016  USGS/WHOI   AB3  70     NaN      GEORGES BANK   \n",
       "\n",
       "   LATITUDE  LONGITUDE  DEPTH_M       ...          PHI_6   PHI_7   PHI_8  \\\n",
       "0  41.10000  -69.28333     51.0       ...        -9999.0 -9999.0 -9999.0   \n",
       "1  40.85000  -68.91667     66.0       ...        -9999.0 -9999.0 -9999.0   \n",
       "2  41.38333  -66.98333     69.0       ...        -9999.0 -9999.0 -9999.0   \n",
       "3  41.63333  -67.95000     20.0       ...        -9999.0 -9999.0 -9999.0   \n",
       "4  41.35000  -67.98333     33.0       ...        -9999.0 -9999.0 -9999.0   \n",
       "\n",
       "    PHI_9  PHI_10  PHI_11  ANALYST                                ANAL_COMM  \\\n",
       "0 -9999.0 -9999.0 -9999.0      NaN  Verbal description made at a later date   \n",
       "1 -9999.0 -9999.0 -9999.0      NaN  Verbal description made at a later date   \n",
       "2 -9999.0 -9999.0 -9999.0      NaN                                      NaN   \n",
       "3 -9999.0 -9999.0 -9999.0      NaN                                      NaN   \n",
       "4 -9999.0 -9999.0 -9999.0      NaN  Verbal description made at a later date   \n",
       "\n",
       "         LITHOLOGY         COMMENTS  \n",
       "0  GRANULE-BOULDER  BOTTOM TEMP 8.2  \n",
       "1      COARSE SAND  BOTTOM TEMP 8.4  \n",
       "2      MEDIUM SAND  BOTTOM TEMP 8.4  \n",
       "3      MEDIUM SAND  BOTTOM TEMP 8.2  \n",
       "4      MEDIUM SAND  BOTTOM TEMP 7.9  \n",
       "\n",
       "[5 rows x 58 columns]"
      ]
     },
     "execution_count": 4,
     "metadata": {},
     "output_type": "execute_result"
    }
   ],
   "source": [
    "datafull.head()"
   ]
  },
  {
   "cell_type": "markdown",
   "metadata": {},
   "source": [
    "#There are **58** columns. We don't need nearly that many. We'll create a subset of the data, with only the columns we'll be using."
   ]
  },
  {
   "cell_type": "code",
   "execution_count": 5,
   "metadata": {
    "collapsed": true
   },
   "outputs": [],
   "source": [
    "data = datafull.iloc[:, [6,13,19,20,21,22,23]]"
   ]
  },
  {
   "cell_type": "code",
   "execution_count": 6,
   "metadata": {},
   "outputs": [
    {
     "data": {
      "text/html": [
       "<div>\n",
       "<style>\n",
       "    .dataframe thead tr:only-child th {\n",
       "        text-align: right;\n",
       "    }\n",
       "\n",
       "    .dataframe thead th {\n",
       "        text-align: left;\n",
       "    }\n",
       "\n",
       "    .dataframe tbody tr th {\n",
       "        vertical-align: top;\n",
       "    }\n",
       "</style>\n",
       "<table border=\"1\" class=\"dataframe\">\n",
       "  <thead>\n",
       "    <tr style=\"text-align: right;\">\n",
       "      <th></th>\n",
       "      <th>AREA</th>\n",
       "      <th>MONTH_COLL</th>\n",
       "      <th>WEIGHT</th>\n",
       "      <th>GRAVEL_PCT</th>\n",
       "      <th>SAND_PCT</th>\n",
       "      <th>SILT_PCT</th>\n",
       "      <th>CLAY_PCT</th>\n",
       "    </tr>\n",
       "  </thead>\n",
       "  <tbody>\n",
       "    <tr>\n",
       "      <th>0</th>\n",
       "      <td>NANTUCKET SHOALS</td>\n",
       "      <td>12</td>\n",
       "      <td>-9999.0</td>\n",
       "      <td>46.0</td>\n",
       "      <td>54.0</td>\n",
       "      <td>0.0</td>\n",
       "      <td>0.0</td>\n",
       "    </tr>\n",
       "    <tr>\n",
       "      <th>1</th>\n",
       "      <td>SW CHANNEL</td>\n",
       "      <td>12</td>\n",
       "      <td>-9999.0</td>\n",
       "      <td>6.0</td>\n",
       "      <td>93.6</td>\n",
       "      <td>0.0</td>\n",
       "      <td>0.0</td>\n",
       "    </tr>\n",
       "    <tr>\n",
       "      <th>2</th>\n",
       "      <td>GEORGES BANK</td>\n",
       "      <td>12</td>\n",
       "      <td>-9999.0</td>\n",
       "      <td>0.0</td>\n",
       "      <td>100.0</td>\n",
       "      <td>0.0</td>\n",
       "      <td>0.0</td>\n",
       "    </tr>\n",
       "    <tr>\n",
       "      <th>3</th>\n",
       "      <td>GEORGES BANK</td>\n",
       "      <td>12</td>\n",
       "      <td>-9999.0</td>\n",
       "      <td>0.0</td>\n",
       "      <td>100.0</td>\n",
       "      <td>0.0</td>\n",
       "      <td>0.0</td>\n",
       "    </tr>\n",
       "    <tr>\n",
       "      <th>4</th>\n",
       "      <td>GEORGES BANK</td>\n",
       "      <td>12</td>\n",
       "      <td>-9999.0</td>\n",
       "      <td>16.0</td>\n",
       "      <td>84.0</td>\n",
       "      <td>0.0</td>\n",
       "      <td>0.0</td>\n",
       "    </tr>\n",
       "  </tbody>\n",
       "</table>\n",
       "</div>"
      ],
      "text/plain": [
       "               AREA  MONTH_COLL  WEIGHT  GRAVEL_PCT  SAND_PCT  SILT_PCT  \\\n",
       "0  NANTUCKET SHOALS          12 -9999.0        46.0      54.0       0.0   \n",
       "1        SW CHANNEL          12 -9999.0         6.0      93.6       0.0   \n",
       "2      GEORGES BANK          12 -9999.0         0.0     100.0       0.0   \n",
       "3      GEORGES BANK          12 -9999.0         0.0     100.0       0.0   \n",
       "4      GEORGES BANK          12 -9999.0        16.0      84.0       0.0   \n",
       "\n",
       "   CLAY_PCT  \n",
       "0       0.0  \n",
       "1       0.0  \n",
       "2       0.0  \n",
       "3       0.0  \n",
       "4       0.0  "
      ]
     },
     "execution_count": 6,
     "metadata": {},
     "output_type": "execute_result"
    }
   ],
   "source": [
    "data.head()"
   ]
  },
  {
   "cell_type": "markdown",
   "metadata": {},
   "source": [
    "#That looks better. Now we'll clean up the names of the columns."
   ]
  },
  {
   "cell_type": "code",
   "execution_count": 7,
   "metadata": {
    "collapsed": true
   },
   "outputs": [],
   "source": [
    "data.columns = ['Area', 'Month', 'Weight', 'Gravel_PCT', 'Sand_PCT', 'Silt_PCT', 'Clay_PCT']"
   ]
  },
  {
   "cell_type": "code",
   "execution_count": 8,
   "metadata": {},
   "outputs": [
    {
     "data": {
      "text/html": [
       "<div>\n",
       "<style>\n",
       "    .dataframe thead tr:only-child th {\n",
       "        text-align: right;\n",
       "    }\n",
       "\n",
       "    .dataframe thead th {\n",
       "        text-align: left;\n",
       "    }\n",
       "\n",
       "    .dataframe tbody tr th {\n",
       "        vertical-align: top;\n",
       "    }\n",
       "</style>\n",
       "<table border=\"1\" class=\"dataframe\">\n",
       "  <thead>\n",
       "    <tr style=\"text-align: right;\">\n",
       "      <th></th>\n",
       "      <th>Area</th>\n",
       "      <th>Month</th>\n",
       "      <th>Weight</th>\n",
       "      <th>Gravel_PCT</th>\n",
       "      <th>Sand_PCT</th>\n",
       "      <th>Silt_PCT</th>\n",
       "      <th>Clay_PCT</th>\n",
       "    </tr>\n",
       "  </thead>\n",
       "  <tbody>\n",
       "    <tr>\n",
       "      <th>0</th>\n",
       "      <td>NANTUCKET SHOALS</td>\n",
       "      <td>12</td>\n",
       "      <td>-9999.0</td>\n",
       "      <td>46.0</td>\n",
       "      <td>54.0</td>\n",
       "      <td>0.0</td>\n",
       "      <td>0.0</td>\n",
       "    </tr>\n",
       "    <tr>\n",
       "      <th>1</th>\n",
       "      <td>SW CHANNEL</td>\n",
       "      <td>12</td>\n",
       "      <td>-9999.0</td>\n",
       "      <td>6.0</td>\n",
       "      <td>93.6</td>\n",
       "      <td>0.0</td>\n",
       "      <td>0.0</td>\n",
       "    </tr>\n",
       "    <tr>\n",
       "      <th>2</th>\n",
       "      <td>GEORGES BANK</td>\n",
       "      <td>12</td>\n",
       "      <td>-9999.0</td>\n",
       "      <td>0.0</td>\n",
       "      <td>100.0</td>\n",
       "      <td>0.0</td>\n",
       "      <td>0.0</td>\n",
       "    </tr>\n",
       "    <tr>\n",
       "      <th>3</th>\n",
       "      <td>GEORGES BANK</td>\n",
       "      <td>12</td>\n",
       "      <td>-9999.0</td>\n",
       "      <td>0.0</td>\n",
       "      <td>100.0</td>\n",
       "      <td>0.0</td>\n",
       "      <td>0.0</td>\n",
       "    </tr>\n",
       "    <tr>\n",
       "      <th>4</th>\n",
       "      <td>GEORGES BANK</td>\n",
       "      <td>12</td>\n",
       "      <td>-9999.0</td>\n",
       "      <td>16.0</td>\n",
       "      <td>84.0</td>\n",
       "      <td>0.0</td>\n",
       "      <td>0.0</td>\n",
       "    </tr>\n",
       "  </tbody>\n",
       "</table>\n",
       "</div>"
      ],
      "text/plain": [
       "               Area  Month  Weight  Gravel_PCT  Sand_PCT  Silt_PCT  Clay_PCT\n",
       "0  NANTUCKET SHOALS     12 -9999.0        46.0      54.0       0.0       0.0\n",
       "1        SW CHANNEL     12 -9999.0         6.0      93.6       0.0       0.0\n",
       "2      GEORGES BANK     12 -9999.0         0.0     100.0       0.0       0.0\n",
       "3      GEORGES BANK     12 -9999.0         0.0     100.0       0.0       0.0\n",
       "4      GEORGES BANK     12 -9999.0        16.0      84.0       0.0       0.0"
      ]
     },
     "execution_count": 8,
     "metadata": {},
     "output_type": "execute_result"
    }
   ],
   "source": [
    "data.head()"
   ]
  },
  {
   "cell_type": "markdown",
   "metadata": {},
   "source": [
    "#Next let's remove any rows that have the value -9999.0, so they don't mess up our analyses.\n",
    "#This will be done over two lines, to make it easier to see the coding."
   ]
  },
  {
   "cell_type": "code",
   "execution_count": 9,
   "metadata": {
    "collapsed": true
   },
   "outputs": [],
   "source": [
    "data = data[(data['Weight'] != -9999.0) & (data['Month'] != -9999.0) & (data['Gravel_PCT'] != -9999.0)]"
   ]
  },
  {
   "cell_type": "code",
   "execution_count": 10,
   "metadata": {
    "collapsed": true
   },
   "outputs": [],
   "source": [
    "data = data[(data['Sand_PCT'] != -9999.0) & (data['Silt_PCT'] != -9999.0) & (data['Clay_PCT'] != -9999.0)]"
   ]
  },
  {
   "cell_type": "code",
   "execution_count": 11,
   "metadata": {},
   "outputs": [
    {
     "data": {
      "text/html": [
       "<div>\n",
       "<style>\n",
       "    .dataframe thead tr:only-child th {\n",
       "        text-align: right;\n",
       "    }\n",
       "\n",
       "    .dataframe thead th {\n",
       "        text-align: left;\n",
       "    }\n",
       "\n",
       "    .dataframe tbody tr th {\n",
       "        vertical-align: top;\n",
       "    }\n",
       "</style>\n",
       "<table border=\"1\" class=\"dataframe\">\n",
       "  <thead>\n",
       "    <tr style=\"text-align: right;\">\n",
       "      <th></th>\n",
       "      <th>Area</th>\n",
       "      <th>Month</th>\n",
       "      <th>Weight</th>\n",
       "      <th>Gravel_PCT</th>\n",
       "      <th>Sand_PCT</th>\n",
       "      <th>Silt_PCT</th>\n",
       "      <th>Clay_PCT</th>\n",
       "    </tr>\n",
       "  </thead>\n",
       "  <tbody>\n",
       "    <tr>\n",
       "      <th>3823</th>\n",
       "      <td>GEORGES BANK</td>\n",
       "      <td>7</td>\n",
       "      <td>24.54</td>\n",
       "      <td>0.53</td>\n",
       "      <td>99.35</td>\n",
       "      <td>0.05</td>\n",
       "      <td>0.07</td>\n",
       "    </tr>\n",
       "    <tr>\n",
       "      <th>3824</th>\n",
       "      <td>GEORGES BANK</td>\n",
       "      <td>7</td>\n",
       "      <td>21.21</td>\n",
       "      <td>0.19</td>\n",
       "      <td>99.72</td>\n",
       "      <td>0.05</td>\n",
       "      <td>0.04</td>\n",
       "    </tr>\n",
       "    <tr>\n",
       "      <th>3825</th>\n",
       "      <td>GEORGES BANK</td>\n",
       "      <td>7</td>\n",
       "      <td>16.88</td>\n",
       "      <td>0.59</td>\n",
       "      <td>99.29</td>\n",
       "      <td>0.07</td>\n",
       "      <td>0.05</td>\n",
       "    </tr>\n",
       "    <tr>\n",
       "      <th>3826</th>\n",
       "      <td>GEORGES BANK</td>\n",
       "      <td>7</td>\n",
       "      <td>20.41</td>\n",
       "      <td>0.39</td>\n",
       "      <td>99.51</td>\n",
       "      <td>0.05</td>\n",
       "      <td>0.05</td>\n",
       "    </tr>\n",
       "    <tr>\n",
       "      <th>3827</th>\n",
       "      <td>GEORGES BANK</td>\n",
       "      <td>7</td>\n",
       "      <td>21.75</td>\n",
       "      <td>0.46</td>\n",
       "      <td>99.45</td>\n",
       "      <td>0.05</td>\n",
       "      <td>0.04</td>\n",
       "    </tr>\n",
       "  </tbody>\n",
       "</table>\n",
       "</div>"
      ],
      "text/plain": [
       "              Area  Month  Weight  Gravel_PCT  Sand_PCT  Silt_PCT  Clay_PCT\n",
       "3823  GEORGES BANK      7   24.54        0.53     99.35      0.05      0.07\n",
       "3824  GEORGES BANK      7   21.21        0.19     99.72      0.05      0.04\n",
       "3825  GEORGES BANK      7   16.88        0.59     99.29      0.07      0.05\n",
       "3826  GEORGES BANK      7   20.41        0.39     99.51      0.05      0.05\n",
       "3827  GEORGES BANK      7   21.75        0.46     99.45      0.05      0.04"
      ]
     },
     "execution_count": 11,
     "metadata": {},
     "output_type": "execute_result"
    }
   ],
   "source": [
    "data.head()"
   ]
  },
  {
   "cell_type": "markdown",
   "metadata": {},
   "source": [
    "#Here we'll focus on one area to analyse. We'll choose *Georges Bank*."
   ]
  },
  {
   "cell_type": "code",
   "execution_count": 12,
   "metadata": {
    "collapsed": true
   },
   "outputs": [],
   "source": [
    "dataGB = data.loc[data['Area'] == 'GEORGES BANK']"
   ]
  },
  {
   "cell_type": "markdown",
   "metadata": {},
   "source": [
    "#Let's look at the <font color=\"red\">seasonality</font> of sediment types. We'll look at the averages of the sediment percents by month."
   ]
  },
  {
   "cell_type": "code",
   "execution_count": 13,
   "metadata": {
    "collapsed": true
   },
   "outputs": [],
   "source": [
    "dataGBave = dataGB.groupby('Month')[['Gravel_PCT', 'Sand_PCT', 'Silt_PCT','Clay_PCT']].mean()"
   ]
  },
  {
   "cell_type": "code",
   "execution_count": 14,
   "metadata": {},
   "outputs": [
    {
     "data": {
      "text/plain": [
       "<matplotlib.axes._subplots.AxesSubplot at 0x223fc3e57f0>"
      ]
     },
     "execution_count": 14,
     "metadata": {},
     "output_type": "execute_result"
    },
    {
     "data": {
      "image/png": "[encoded data removed]",
      "text/plain": [
       "<matplotlib.figure.Figure at 0x223fc73d4e0>"
      ]
     },
     "metadata": {},
     "output_type": "display_data"
    }
   ],
   "source": [
    "dataGBave.plot.bar()"
   ]
  },
  {
   "cell_type": "markdown",
   "metadata": {},
   "source": [
    "#<font color=\"yellow\">Sand</font> has by far the highest percent through out the year. However on average it dips quite a bit in August and October."
   ]
  },
  {
   "cell_type": "markdown",
   "metadata": {},
   "source": [
    "#Now let's look at the <font color=\"red\">seasonality</font> of the weight."
   ]
  },
  {
   "cell_type": "code",
   "execution_count": 15,
   "metadata": {
    "collapsed": true
   },
   "outputs": [],
   "source": [
    "dataGBwt = dataGB.groupby('Month')[['Weight']].mean()"
   ]
  },
  {
   "cell_type": "code",
   "execution_count": 16,
   "metadata": {},
   "outputs": [
    {
     "data": {
      "text/plain": [
       "<matplotlib.axes._subplots.AxesSubplot at 0x2238035afd0>"
      ]
     },
     "execution_count": 16,
     "metadata": {},
     "output_type": "execute_result"
    },
    {
     "data": {
      "image/png": "[encoded data removed]",
      "text/plain": [
       "<matplotlib.figure.Figure at 0x223fc72f1d0>"
      ]
     },
     "metadata": {},
     "output_type": "display_data"
    }
   ],
   "source": [
    "dataGBwt.plot(color='c')"
   ]
  },
  {
   "cell_type": "markdown",
   "metadata": {},
   "source": [
    "#There is a huge increase in weight from July to Agusut. This drops off again in Septemebr to normal levels."
   ]
  }
 ],
 "metadata": {
  "kernelspec": {
   "display_name": "Python 3",
   "language": "python",
   "name": "python3"
  },
  "language_info": {
   "codemirror_mode": {
    "name": "ipython",
    "version": 3
   },
   "file_extension": ".py",
   "mimetype": "text/x-python",
   "name": "python",
   "nbconvert_exporter": "python",
   "pygments_lexer": "ipython3",
   "version": "3.6.2"
  }
 },
 "nbformat": 4,
 "nbformat_minor": 2
}
